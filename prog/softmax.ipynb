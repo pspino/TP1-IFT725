{
 "cells": [
  {
   "cell_type": "markdown",
   "metadata": {},
   "source": [
    "# Softmax\n",
    "\n",
    "Avec cet exercice, vous serez appelé à:\n",
    "\n",
    "- implanter un réseau de neurones de classification linéaire à 10 classes avec sortie **Softmax**\n",
    "- implanter une fonction de perte (**loss function**) vectorisée de type **entropie croisée**\n",
    "- implanter des **gradients analytiques rétropropagés** vectorisés\n",
    "- utilisation de **gradients numériques** pour vérifier vos gradients analytiques\n",
    "- utiliser un ensemble de validation pour ajuster le **taux d'apprentissage** et le paramètre de **régularisation**\n",
    "- implanter une descente de gradient stochastique (**SGD**)\n",
    "- **visualiser** les poids appris\n"
   ]
  },
  {
   "cell_type": "code",
   "execution_count": 1,
   "metadata": {
    "pycharm": {
     "is_executing": false
    }
   },
   "outputs": [],
   "source": [
    "import random\n",
    "import numpy as np\n",
    "from ift725.data_utils import load_CIFAR10\n",
    "import matplotlib.pyplot as plt\n",
    "%matplotlib inline\n",
    "plt.rcParams['figure.figsize'] = (10.0, 8.0) # set default size of plots\n",
    "plt.rcParams['image.interpolation'] = 'nearest'\n",
    "plt.rcParams['image.cmap'] = 'gray'\n",
    "\n",
    "# for auto-reloading extenrnal modules\n",
    "# see http://stackoverflow.com/questions/1907993/autoreload-of-modules-in-ipython\n",
    "%load_ext autoreload\n",
    "%autoreload 2"
   ]
  },
  {
   "cell_type": "code",
   "execution_count": 2,
   "metadata": {
    "pycharm": {
     "is_executing": false
    }
   },
   "outputs": [
    {
     "name": "stdout",
     "text": [
      "Train data shape:  (49000, 3073)\n",
      "Train labels shape:  (49000,)\n",
      "Validation data shape:  (1000, 3073)\n",
      "Validation labels shape:  (1000,)\n",
      "Test data shape:  (1000, 3073)\n",
      "Test labels shape:  (1000,)\n",
      "dev data shape:  (500, 3073)\n",
      "dev labels shape:  (500,)\n"
     ],
     "output_type": "stream"
    }
   ],
   "source": [
    "def get_CIFAR10_data(num_training=49000, num_validation=1000, num_test=1000, num_dev=500):\n",
    "    \"\"\"\n",
    "    Load the CIFAR-10 dataset from disk and perform preprocessing to prepare\n",
    "    it for the linear classifier. These are the same steps as we used for the\n",
    "    SVM, but condensed to a single function.  \n",
    "    \"\"\"\n",
    "    # Load the raw CIFAR-10 data\n",
    "    cifar10_dir = 'ift725/datasets/cifar-10-batches-py'\n",
    "    X_train, y_train, X_test, y_test = load_CIFAR10(cifar10_dir)\n",
    "  \n",
    "    # subsample the data\n",
    "    mask = range(num_training, num_training + num_validation)\n",
    "    X_val = X_train[mask]\n",
    "    y_val = y_train[mask]\n",
    "    mask = range(num_training)\n",
    "    X_train = X_train[mask]\n",
    "    y_train = y_train[mask]\n",
    "    mask = range(num_test)\n",
    "    X_test = X_test[mask]\n",
    "    y_test = y_test[mask]\n",
    "    mask = np.random.choice(num_training, num_dev, replace=False)\n",
    "    X_dev = X_train[mask]\n",
    "    y_dev = y_train[mask]\n",
    "\n",
    "    # Preprocessing: reshape the image data into rows\n",
    "    X_train = np.reshape(X_train, (X_train.shape[0], -1))\n",
    "    X_val = np.reshape(X_val, (X_val.shape[0], -1))\n",
    "    X_test = np.reshape(X_test, (X_test.shape[0], -1))\n",
    "    X_dev = np.reshape(X_dev, (X_dev.shape[0], -1))\n",
    "\n",
    "    # Normalize the data: subtract the mean image\n",
    "    mean_image = np.mean(X_train, axis = 0)\n",
    "    X_train -= mean_image\n",
    "    X_val -= mean_image\n",
    "    X_test -= mean_image\n",
    "    X_dev -= mean_image\n",
    "\n",
    "    # add bias dimension and transform into columns\n",
    "    X_train = np.hstack([X_train, np.ones((X_train.shape[0], 1))])\n",
    "    X_val = np.hstack([X_val, np.ones((X_val.shape[0], 1))])\n",
    "    X_test = np.hstack([X_test, np.ones((X_test.shape[0], 1))])\n",
    "    X_dev = np.hstack([X_dev, np.ones((X_dev.shape[0], 1))])\n",
    "\n",
    "    return X_train, y_train, X_val, y_val, X_test, y_test, X_dev, y_dev\n",
    "\n",
    "\n",
    "# Invoke the above function to get our data.\n",
    "X_train, y_train, X_val, y_val, X_test, y_test, X_dev, y_dev = get_CIFAR10_data()\n",
    "print('Train data shape: ', X_train.shape)\n",
    "print('Train labels shape: ', y_train.shape)\n",
    "print('Validation data shape: ', X_val.shape)\n",
    "print('Validation labels shape: ', y_val.shape)\n",
    "print('Test data shape: ', X_test.shape)\n",
    "print('Test labels shape: ', y_test.shape)\n",
    "print('dev data shape: ', X_dev.shape)\n",
    "print('dev labels shape: ', y_dev.shape)"
   ]
  },
  {
   "cell_type": "markdown",
   "metadata": {},
   "source": [
    "## Classifieur Softmax\n",
    "\n",
    "Le code pour cette section réside dans **ift725/classifiers/softmax.py**. \n"
   ]
  },
  {
   "cell_type": "code",
   "execution_count": 9,
   "metadata": {
    "pycharm": {
     "is_executing": false
    }
   },
   "outputs": [
    {
     "name": "stdout",
     "text": [
      "loss: 2.393470\n",
      "sanity check: 2.302585\n"
     ],
     "output_type": "stream"
    }
   ],
   "source": [
    "##############################################################################\n",
    "# TODO: Implémenter le calcul de perte de façon naive avec des boucles dans  #\n",
    "#  la fonction softmax_naive_loss_function située dans le fichier            #\n",
    "#  ift725.classifiers.softmax.                                               #\n",
    "##############################################################################\n",
    "\n",
    "from ift725.classifiers.softmax import softmax_naive_loss_function\n",
    "import time\n",
    "\n",
    "# Generate a random softmax weight matrix and use it to compute the loss.\n",
    "W = np.random.randn(3073, 10) * 0.0001\n",
    "loss, grad = softmax_naive_loss_function(W, X_dev, y_dev, 0.0)\n",
    "\n",
    "# As a rough sanity check, our loss should be something close to -log(0.1).\n",
    "print('loss: %f' % loss)\n",
    "print('sanity check: %f' % (-np.log(0.1)))"
   ]
  },
  {
   "cell_type": "markdown",
   "metadata": {},
   "source": [
    "## Question 1:\n",
    "Pourquoi s'attend-on que la loss soit approximativement -np.log(0.1))?\n",
    "\n",
    "**Votre réponse:**  Un réseau non entraîné devrait avoir une prédiction uniforme pour chaque classe, donc pour 10 classes, 10% devrait être la quantité de bonne prédiction."
   ]
  },
  {
   "cell_type": "code",
   "execution_count": 10,
   "metadata": {
    "pycharm": {
     "is_executing": false
    }
   },
   "outputs": [
    {
     "name": "stdout",
     "text": [
      "numerical: -0.219178 analytic: -0.219178, relative error: 5.027238e-08\n",
      "numerical: 0.432793 analytic: 0.432793, relative error: 1.382482e-07\n",
      "numerical: 1.264344 analytic: 1.264344, relative error: 3.527123e-08\n",
      "numerical: -0.679164 analytic: -0.679165, relative error: 8.720248e-08\n",
      "numerical: -0.148203 analytic: -0.148203, relative error: 2.365660e-07\n",
      "numerical: 1.036572 analytic: 1.036572, relative error: 9.746898e-08\n",
      "numerical: -1.199833 analytic: -1.199833, relative error: 1.256452e-08\n",
      "numerical: -0.954944 analytic: -0.954944, relative error: 5.177137e-08\n",
      "numerical: -0.676286 analytic: -0.676286, relative error: 7.263298e-09\n",
      "numerical: -0.233063 analytic: -0.233063, relative error: 8.511590e-08\n",
      "numerical: -0.835563 analytic: -0.835546, relative error: 1.002048e-05\n",
      "numerical: -0.598377 analytic: -0.598377, relative error: 2.261878e-07\n",
      "numerical: -0.122777 analytic: -0.123195, relative error: 1.699806e-03\n",
      "numerical: -1.523328 analytic: -1.523328, relative error: 2.033411e-08\n",
      "numerical: 3.500359 analytic: 3.500359, relative error: 6.235361e-09\n",
      "numerical: 1.435526 analytic: 1.435479, relative error: 1.625688e-05\n",
      "numerical: 0.758046 analytic: 0.758041, relative error: 3.131821e-06\n",
      "numerical: -2.657264 analytic: -2.657264, relative error: 7.904425e-09\n",
      "numerical: 1.215020 analytic: 1.214991, relative error: 1.200525e-05\n",
      "numerical: 0.881113 analytic: 0.881162, relative error: 2.768960e-05\n"
     ],
     "output_type": "stream"
    }
   ],
   "source": [
    "##############################################################################\n",
    "# TODO: Compléter le calcul du gradient de façon naive avec des boucles dans #\n",
    "#  la fonction softmax_naive_loss_function située dans le fichier            #\n",
    "#  ift725.classifiers.softmax.                                               #\n",
    "##############################################################################\n",
    "loss, grad = softmax_naive_loss_function(W, X_dev, y_dev, 0.0)\n",
    "\n",
    "# As we did for the SVM, use numeric gradient checking as a debugging tool.\n",
    "# The numeric gradient should be close to the analytic gradient.\n",
    "from ift725.gradient_check import check_gradient_sparse\n",
    "f = lambda w: softmax_naive_loss_function(w, X_dev, y_dev, 0.0)[0]\n",
    "grad_numerical = check_gradient_sparse(f, W, grad, 10)\n",
    "\n",
    "# similar to SVM case, do another gradient check with regularization\n",
    "loss, grad = softmax_naive_loss_function(W, X_dev, y_dev, 1e2)\n",
    "f = lambda w: softmax_naive_loss_function(w, X_dev, y_dev, 1e2)[0]\n",
    "grad_numerical = check_gradient_sparse(f, W, grad, 10)"
   ]
  },
  {
   "cell_type": "markdown",
   "metadata": {},
   "source": [
    "### Question 2:  \n",
    "Les 2 prochaines étapes consistent à implanter le calcul de la loss et du gradient de la loss de façon **linéarisée**.  Avant de commencer à coder, veuillez donner la formule de la loss et du gradient pour une mini-batch de 500 données contenue dans le tableau \n",
    "\n",
    "$$X \\in R^{500\\times 3073}$$\n",
    "\n",
    "et une matrice de poids $$W \\in R^{3073\\times 10}$$ \n",
    "\n",
    "où 3073 est la dimensionnalité des données et 10 est le nombre de classes.\n",
    "\n",
    "**Votre Réponse:** \n",
    "\n",
    "$$Loss = \\frac{1}{N} \\sum \\frac{e^{XW}}{\\sum e^{XW}} - 1 + R(W)$$\n",
    "\n",
    "$$dW = \\frac{1}{N} X^T \\frac{e^{XW}}{\\sum e^{XW}} + R^{\\prime}(W)$$\n",
    "\n",
    "**NOTE IMPORTANT** : la réponse à cette question ne contient aucune boucle, seulement des multiplications matricielles et ventorielles"
   ]
  },
  {
   "cell_type": "code",
   "execution_count": 12,
   "metadata": {
    "scrolled": true,
    "pycharm": {
     "is_executing": false
    }
   },
   "outputs": [
    {
     "name": "stdout",
     "text": [
      "naive loss: 2.393470e+00 computed in 1.250232s\n",
      "vectorized loss: 2.393470e+00 computed in 0.010998s\n",
      "Loss difference: 0.000000\n",
      "Gradient difference: 0.000000\n"
     ],
     "output_type": "stream"
    }
   ],
   "source": [
    "##############################################################################\n",
    "# TODO: Implémenter le calcul de perte et du gradient de façon vectorielle   #\n",
    "#  dans la fonction softmax_vectorized_loss_function située dans le fichier  #\n",
    "#  ift725.classifiers.softmax.                                               #\n",
    "# Les deux versions devraient calculer les mêmes résultats, mais la version  #\n",
    "# vectorielle devrait être beaucoup plus rapide.                             #\n",
    "##############################################################################\n",
    "tic = time.time()\n",
    "loss_naive, grad_naive = softmax_naive_loss_function(W, X_dev, y_dev, 0.00001)\n",
    "toc = time.time()\n",
    "print(X_dev.shape)\n",
    "print('naive loss: %e computed in %fs' % (loss_naive, toc - tic))\n",
    "\n",
    "from ift725.classifiers.softmax import softmax_vectorized_loss_function\n",
    "tic = time.time()\n",
    "loss_vectorized, grad_vectorized = softmax_vectorized_loss_function(W, X_dev, y_dev, 0.00001)\n",
    "toc = time.time()\n",
    "print('vectorized loss: %e computed in %fs' % (loss_vectorized, toc - tic))\n",
    "\n",
    "# As we did for the SVM, we use the Frobenius norm to compare the two versions\n",
    "# of the gradient.\n",
    "grad_difference = np.linalg.norm(grad_naive - grad_vectorized, ord='fro')\n",
    "print('Loss difference: %f' % np.abs(loss_naive - loss_vectorized))\n",
    "print('Gradient difference: %f' % grad_difference)"
   ]
  },
  {
   "cell_type": "code",
   "execution_count": 13,
   "metadata": {
    "pycharm": {
     "is_executing": false
    }
   },
   "outputs": [
    {
     "name": "stdout",
     "text": [
      "best acc 0.235000 : lr=0.000000 reg=10000.000000\n",
      "best acc 0.253000 : lr=0.000000 reg=100000.000000\n",
      "best acc 0.259000 : lr=0.000000 reg=10000.000000\n",
      "best acc 0.284000 : lr=0.000000 reg=55000.000000\n",
      "best acc 0.285000 : lr=0.000000 reg=10000.000000\n",
      "best acc 0.288000 : lr=0.000000 reg=55000.000000\n",
      "best acc 0.318000 : lr=0.000000 reg=100000.000000\n",
      "lr 1.000000e-07 reg 1.000000e+04 train accuracy: 0.228980 val accuracy: 0.235000\n",
      "lr 1.000000e-07 reg 5.500000e+04 train accuracy: 0.221980 val accuracy: 0.223000\n",
      "lr 1.000000e-07 reg 1.000000e+05 train accuracy: 0.239429 val accuracy: 0.253000\n",
      "lr 2.000000e-07 reg 1.000000e+04 train accuracy: 0.264673 val accuracy: 0.259000\n",
      "lr 2.000000e-07 reg 5.500000e+04 train accuracy: 0.266245 val accuracy: 0.284000\n",
      "lr 2.000000e-07 reg 1.000000e+05 train accuracy: 0.256531 val accuracy: 0.272000\n",
      "lr 3.000000e-07 reg 1.000000e+04 train accuracy: 0.279367 val accuracy: 0.285000\n",
      "lr 3.000000e-07 reg 5.500000e+04 train accuracy: 0.271755 val accuracy: 0.284000\n",
      "lr 3.000000e-07 reg 1.000000e+05 train accuracy: 0.275816 val accuracy: 0.269000\n",
      "lr 4.000000e-07 reg 1.000000e+04 train accuracy: 0.287714 val accuracy: 0.273000\n",
      "lr 4.000000e-07 reg 5.500000e+04 train accuracy: 0.289837 val accuracy: 0.288000\n",
      "lr 4.000000e-07 reg 1.000000e+05 train accuracy: 0.292265 val accuracy: 0.318000\n",
      "lr 5.000000e-07 reg 1.000000e+04 train accuracy: 0.301327 val accuracy: 0.297000\n",
      "lr 5.000000e-07 reg 5.500000e+04 train accuracy: 0.300367 val accuracy: 0.308000\n",
      "lr 5.000000e-07 reg 1.000000e+05 train accuracy: 0.297265 val accuracy: 0.311000\n",
      "best validation accuracy achieved during cross-validation: 0.318000\n"
     ],
     "output_type": "stream"
    },
    {
     "data": {
      "text/plain": "<Figure size 720x576 with 1 Axes>",
      "image/png": "[encoded data removed]"
     },
     "metadata": {
      "needs_background": "light"
     },
     "output_type": "display_data"
    }
   ],
   "source": [
    "from ift725.classifiers import Softmax\n",
    "import itertools as it\n",
    "results = {}\n",
    "best_val = -1\n",
    "best_softmax = None\n",
    "learning_rates = np.linspace(1e-7, 5e-7, 5)\n",
    "regularization_strengths = np.linspace(1e4, 1e5, 3)\n",
    "best_loss_history = None\n",
    "\n",
    "##############################################################################\n",
    "# TODO: Utilisez l'ensemble de validation pour régler les hyper-paramètres   #\n",
    "#  (force de régularisation et vitesse d'apprentissage). Vous devez          #\n",
    "#  expérimenter différentes plages de valeurs pour les taux d'apprentissage  #\n",
    "#  et les forces de régularisation; si vous êtes prudent, vous devriez       #\n",
    "#  pouvoir obtenir une précision de classification supérieur à 0.36 sur      #\n",
    "#  l'ensemble de validation.                                                 #\n",
    "##############################################################################\n",
    "for lr, reg in it.product(learning_rates, regularization_strengths):\n",
    "    classifier = Softmax()\n",
    "    loss_history = classifier.train(X_train, y_train, learning_rate=lr, reg=reg, num_iters=1000)\n",
    "    y_train_pred = classifier.predict(X_train)\n",
    "    y_val_pred = classifier.predict(X_val)\n",
    "    acc_train = np.mean(y_train == y_train_pred)\n",
    "    acc_val = np.mean(y_val == y_val_pred)\n",
    "    results[(lr, reg)] = (acc_train, acc_val)\n",
    "    \n",
    "    if acc_val > best_val:\n",
    "        print('best acc %f : lr=%f reg=%f' %(acc_val, lr, reg))\n",
    "        best_val = acc_val\n",
    "        best_softmax = classifier\n",
    "        best_loss_history = loss_history\n",
    "################################################################################\n",
    "#                             FIN DE VOTRE CODE                                #\n",
    "################################################################################\n",
    "    \n",
    "# Print out results.\n",
    "for lr, reg in sorted(results):\n",
    "    train_accuracy, val_accuracy = results[(lr, reg)]\n",
    "    print('lr %e reg %e train accuracy: %f val accuracy: %f' % (lr, reg, train_accuracy, val_accuracy))\n",
    "    \n",
    "print('best validation accuracy achieved during cross-validation: %f' % best_val)\n",
    "\n",
    "plt.plot(best_loss_history)\n",
    "plt.xlabel('Iteration number')\n",
    "plt.ylabel('Loss value')\n",
    "plt.show()"
   ]
  },
  {
   "cell_type": "code",
   "execution_count": 14,
   "metadata": {
    "pycharm": {
     "is_executing": false
    }
   },
   "outputs": [
    {
     "name": "stdout",
     "text": [
      "softmax on raw pixels final test set accuracy: 0.285000\n"
     ],
     "output_type": "stream"
    }
   ],
   "source": [
    "# evaluate on test set\n",
    "# Evaluate the best softmax on test set\n",
    "y_test_pred = best_softmax.predict(X_test)\n",
    "test_accuracy = np.mean(y_test == y_test_pred)\n",
    "print('softmax on raw pixels final test set accuracy: %f' % (test_accuracy) )"
   ]
  },
  {
   "cell_type": "code",
   "execution_count": 15,
   "metadata": {
    "pycharm": {
     "is_executing": false
    }
   },
   "outputs": [],
   "source": [
    "# Visualize the learned weights for each class\n",
    "w = best_softmax.W[:-1,:] # strip out the bias\n",
    "w = w.reshape(32, 32, 3, 10)\n",
    "\n",
    "w_min, w_max = np.min(w), np.max(w)\n",
    "\n",
    "classes = ['plane', 'car', 'bird', 'cat', 'deer', 'dog', 'frog', 'horse', 'ship', 'truck']\n",
    "for i in range(10):\n",
    "    plt.subplot(2, 5, i + 1)\n",
    "\n",
    "    # Rescale the weights to be between 0 and 255\n",
    "    wimg = 255.0 * (w[:, :, :, i].squeeze() - w_min) / (w_max - w_min)\n",
    "    plt.imshow(wimg.astype('uint8'))\n",
    "    plt.axis('off')\n",
    "    plt.title(classes[i])"
   ]
  },
  {
   "cell_type": "code",
   "execution_count": null,
   "metadata": {
    "pycharm": {
     "is_executing": false
    }
   },
   "outputs": [],
   "source": []
  }
 ],
 "metadata": {
  "anaconda-cloud": {},
  "kernelspec": {
   "name": "python3",
   "language": "python",
   "display_name": "Python 3"
  },
  "language_info": {
   "codemirror_mode": {
    "name": "ipython",
    "version": 3
   },
   "file_extension": ".py",
   "mimetype": "text/x-python",
   "name": "python",
   "nbconvert_exporter": "python",
   "pygments_lexer": "ipython3",
   "version": "3.7.1-final"
  },
  "pycharm": {
   "stem_cell": {
    "cell_type": "raw",
    "source": [],
    "metadata": {
     "collapsed": false
    }
   }
  }
 },
 "nbformat": 4,
 "nbformat_minor": 1
}